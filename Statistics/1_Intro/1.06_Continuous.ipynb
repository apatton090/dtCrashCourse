{
 "cells": [
  {
   "cell_type": "markdown",
   "metadata": {},
   "source": [
    "# Introduction to Statistics\n",
    "## Chapter 1.6 - Continuous Random Variables\n",
    "Equations and properties for continuous random variables are very similar to discrete random variables. As a general rule of thumb, discrete random variables uses summations in their equations while continuous random variables uses integration. \n"
   ]
  },
  {
   "cell_type": "markdown",
   "metadata": {},
   "source": [
    "## Cumulative Distribution Function\n",
    "\n",
    "The definition of a cumulative distribution function for a continuous random variable is the same as the discrete case, $P(X \\le x)$, and has the exact some properties. It can also be interpreted as modeling the quantile of the distribution. The main difference is the cdf of a continuous distribution is a continuous function while the cdf of a discrete distribution is a stepwise function."
   ]
  },
  {
   "cell_type": "markdown",
   "metadata": {},
   "source": [
    "## Probability Density Function\n",
    "### Definition\n",
    "A probability distribution of a continuous random variable is also called a probability density density (pdf) and is defined as the following:\n",
    "- (1) $f(x)=\\frac{dF(x)}{dx}$ wherever the derivative exists\n",
    "\n",
    "Since a cdf is nondecreasing function, we also know that $f(x)\\ge0$.  \n",
    "\n",
    "Based on the definition of a pdf, the cdf must be equal to the following:\n",
    "- (2) $F(x)=\\int_{-\\infty}^{x}f(t)dt$\n",
    "\n",
    "This would also mean we can find the probability of $X$ being between the interval $[x_1, x_2]$ using a pdf:\n",
    "- (3) $P(x_1 \\le X \\le x_2) = \\int_{x_1}^{x_2}f(t)dt$\n",
    "    - $P(x_1 \\le X \\le x_2) = F(x_2) - F(x_1) = \\int_{-\\infty}^{x_2}f(t)dt - \\int_{-\\infty}^{x_1}f(t)dt = \\int_{x_1}^{x_2}f(t)dt$\n",
    "\n",
    "This means if $x_1 = x_2$, then the probability will be 0. Using this we can derive the following property\n",
    "- $P(X\\le x) = P(X<x)$.\n",
    "    - $P(X<x) = P(X\\le x) - P(X=x) = P(X\\le x) - 0 = P(X\\le x)$.\n",
    "\n",
    "### Conceptual\n",
    "A continuous random variable's pdf and a discrete random variable's pmf both models probability, however they do it in different ways. A pmf models probability directly, while a pdf models probability indirectly. The pdf models the probability density (hence the name) and the probability is the area under the curve. \n",
    "\n",
    "Probability density is analogous to density in physics. In physics, density is how much \"stuff\" is in a given unit volume. Objects with higher density has a higher mass, assuming they have the same volume. Probability density is how much probability is in a given unit interval. And values with a higher probability density is relatively more \"likely\" to occur, even though the absolute probability is $0$.\n",
    "\n",
    "Suppose the mass of object is constrain to be between $0$g and $1$g. The density an object is not constrain to be between $0$ and $1$. The object could have a high density (like $2$g), but have a low volume (like .1cm). Similarly, probability density could be greater than 1 even though probability is constrained to be between $[0,1]$."
   ]
  },
  {
   "cell_type": "markdown",
   "metadata": {},
   "source": [
    "## Expected Value\n",
    "The definition of expected value in the continuos case is the following:\n",
    "- (4) $E(X)=\\int_{-\\infty}^{\\infty}xf(x)dx$\n",
    "\n",
    "It also share all of expected value properties for the discrete case:\n",
    "- $E(g(X)) = \\int_{-\\infty}^{\\infty}f(x)dx$\n",
    "    - This property was slightly modified. Summation was replaced with integration.\n",
    "- $E(c) = c$\n",
    "- $E(cX) = cE(X)$\n",
    "- $E(X + Y) = E(X) + E(Y)$\n",
    "\n",
    "## Variance\n",
    "The definition of variance in the continuos case remains the same and share the same properties.\n",
    "- $Var(X) = E[(X - \\mu)^2]$"
   ]
  },
  {
   "cell_type": "markdown",
   "metadata": {},
   "source": [
    "## Equations\n",
    "1) $f(x)=\\frac{dF(x)}{dx}$ wherever the derivative exists  \n",
    "2) $F(x)=\\int_{-\\infty}^{x}f(t)dt$  \n",
    "3) $P(x_1 \\le X \\le x_2) = \\int_{x_1}^{x_2}f(t)dt$   \n",
    "4) $E(X)=\\int_{-\\infty}^{\\infty}xf(x)dx$  \n"
   ]
  }
 ],
 "metadata": {
  "language_info": {
   "codemirror_mode": {
    "name": "ipython",
    "version": 3
   },
   "file_extension": ".py",
   "mimetype": "text/x-python",
   "name": "python",
   "nbconvert_exporter": "python",
   "pygments_lexer": "ipython3",
   "version": 3
  },
  "orig_nbformat": 2
 },
 "nbformat": 4,
 "nbformat_minor": 2
}
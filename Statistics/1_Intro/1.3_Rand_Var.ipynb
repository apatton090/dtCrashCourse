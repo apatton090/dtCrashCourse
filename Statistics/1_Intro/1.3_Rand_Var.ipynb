{
 "cells": [
  {
   "cell_type": "markdown",
   "metadata": {},
   "source": [
    "# Introduction to Statistics\n",
    "## Chapter 1.3 - Random Variables"
   ]
  },
  {
   "cell_type": "markdown",
   "metadata": {},
   "source": [
    "## Definition\n",
    "- Random variable\n",
    "    - The numerical result of a random trial"
   ]
  },
  {
   "cell_type": "markdown",
   "metadata": {},
   "source": [
    "## Notation\n",
    "- Random variables\n",
    "    - Capital letters\n",
    "    - e.g. $X$, $Y$\n",
    "- Particular outcome of random variable\n",
    "    - Any number or lowercase version of the letter used to denote the random variable\n",
    "    - e.g. $5, x, y$"
   ]
  },
  {
   "cell_type": "markdown",
   "metadata": {},
   "source": [
    "## Random Variable\n",
    "Suppose we did an experiment, and we have a sample point $p$. Suppose $X$ is the random variable for the experiment, and it has a particular (numeric) value, $x$. Recall that a sample point is a particular outcome from a random trial.  \n",
    "- What does is the difference between result of a random trial and an outcome from a random trail?\n",
    "- What is the difference between sample point and a \n",
    "\n",
    "Generally speaking, result and outcome are arguably synonyms. Here we are defining outcome as the end state of the experiment while the result is a value of a characteristic/ attribute of the end state.\n",
    "\n",
    "Example  \n",
    "Suppose we have a coin flipping experiment where we count the number of heads after we flip 5 quarters. After flipping the coin 5 times, the coins are in the following state (T, H, H, T, T). This state is the outcome of the experiment. The result of the experiment is 2 because there are 2 heads in the outcome.\n",
    "- Based on this example, we can see that multiple outcomes can yield the same result.\n",
    "\n",
    "Sometimes, there are several characteristics of the outcome that we are interesting in (e.g. height and weight of a person). Each of the recorded characteristic will be is own random variable. The number of random variables we have have special terminology.\n",
    "- Univariate\n",
    "    - The data consists of 1 random variable.\n",
    "- Bivariate\n",
    "    - The data consists of 2 random variable.\n",
    "- Multivariate\n",
    "    - The data consists of many random variable.\n"
   ]
  },
  {
   "cell_type": "markdown",
   "metadata": {},
   "source": [
    "## Types of Random Variables\n",
    "Suppose $X$ is the random variable for the experiment, and it has a particular (numeric) value, $x$. Suppose $Z$ is the set of all possible $x$. If $Z$ is finite or countably infinite, then $X$ is said to be discrete if all of it. Basically, this means that if all of the elements of $Z$ can be mapped to a subset of the integer set, then $X$ is a discrete random variable. If $X$ is not discrete, then $X$ is said to be a continuous random variable.\n",
    "\n",
    "If $Z$ can be infinite, does the equation for probability $P(A) = \\frac{|A|}{|S|}$ break down?\n",
    "- Technically, yes. This definition only work if $S$ has finite cardinality. However, there is mathematical theory that allow us to assign size value to special types of infinite sets (such as numbers). The conceptual idea is still same, the size of set $A$ divided by the size of set $S$."
   ]
  }
 ],
 "metadata": {
  "language_info": {
   "codemirror_mode": {
    "name": "ipython",
    "version": 3
   },
   "file_extension": ".py",
   "mimetype": "text/x-python",
   "name": "python",
   "nbconvert_exporter": "python",
   "pygments_lexer": "ipython3",
   "version": 3
  },
  "orig_nbformat": 2
 },
 "nbformat": 4,
 "nbformat_minor": 2
}
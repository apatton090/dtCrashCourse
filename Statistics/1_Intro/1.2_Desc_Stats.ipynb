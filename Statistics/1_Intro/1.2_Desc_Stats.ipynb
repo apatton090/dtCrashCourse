{
 "cells": [
  {
   "cell_type": "markdown",
   "metadata": {},
   "source": [
    "# Introduction - Descriptive Statistics\n",
    "\n",
    "Data by itself is useless. We need to transform the data so it can be analyzed and understood by people. Graphical transforms are great way to visualizing and understanding the data. 2 simple and commonly used graphical representation are a histograms and scatter plots. Graphs are great starting point for data analysis, but we cannot \"do math\" on graphs. Descriptive statistics are numberic values that quantify/ describes the features of the graphs so we can do rigorious, mathematical data analysis."
   ]
  },
  {
   "cell_type": "markdown",
   "metadata": {},
   "source": [
    "## Definitions\n",
    "- Population\n",
    "    - The group of people, items, or events that is related to the question of interest\n",
    "- Sample\n",
    "    - A subset of the population that we have data for\n",
    "- Statistic\n",
    "    - A value computed from the data\n",
    "- Outlier\n",
    "    - \n"
   ]
  },
  {
   "cell_type": "markdown",
   "metadata": {},
   "source": [
    "## Univariate\n",
    "\n",
    "Uni- means one, and variate means random variable. So, univariate means one random variable. This means all of the results from the random trail are of the same characteristic/ attribute. Histograms are commonly used to visualize univariate data. Descriptive statisitcs for univariate data are in 2 general categories: measure of central tendency and measure of variability."
   ]
  },
  {
   "cell_type": "markdown",
   "metadata": {},
   "source": [
    "## Measure of Central Tendency\n",
    "Central tendency means the typical value of the data. The 3 most commonly used ones are: (arithmetic) mean, median, and mode.\n",
    "\n",
    "### Mean  \n",
    "The mean is defined as the sum of the data divided by the number of data.\n",
    "- $y_{mean} = \\bar{y} = \\frac{1}{n} \\sum_{i=1}^n y_i$\n",
    "\n",
    "### Median \n",
    "The meidan is defined as the value where 50% of the data is greater than or equal to it.\n",
    "- $y_{median} = $ middle number of the ordered values  \n",
    "\n",
    "If the number of data is odd, then the middle number is the median. If the number of data is even, then the average of the 2 middle number is the median.\n",
    "\n",
    "### Mode\n",
    "The mode is defined as the value with the highest frequency.\n",
    "- $y_{mode} = $ most common number\n",
    "\n",
    "There may be more than 1 mode in the data.\n",
    "\n",
    "### Comparison\n",
    "When it comes to outliers, median and mode are more robust to outliers. This is because a large outlier can significantly change the mean, but it will hardly affect the median or the mode. However, mean has better mathematical properties, such as being differentiable.  \n",
    "\n",
    "Which one is the best depends on the situation. Typically mean is prefered because outliers can be removed from the data set and it has superior matematical properties."
   ]
  },
  {
   "cell_type": "markdown",
   "metadata": {},
   "source": [
    "## Measure of Variability/ Dispersion"
   ]
  }
 ],
 "metadata": {
  "language_info": {
   "codemirror_mode": {
    "name": "ipython",
    "version": 3
   },
   "file_extension": ".py",
   "mimetype": "text/x-python",
   "name": "python",
   "nbconvert_exporter": "python",
   "pygments_lexer": "ipython3",
   "version": 3
  },
  "orig_nbformat": 2
 },
 "nbformat": 4,
 "nbformat_minor": 2
}
{
 "cells": [
  {
   "cell_type": "markdown",
   "metadata": {},
   "source": [
    "# Introduction to Statistics\n",
    "## Chapter 1.7 - Bivariate/ Multivariate distribution\n",
    "Multivariate distribution models the probability of 2+ random variables, e.g. $P(X_1 \\le x_1, X_2 \\le x_2)$. This chapter will define things as bivariate distribution, but the idea can easily be exptended to more than 2 random variables.\n"
   ]
  },
  {
   "cell_type": "markdown",
   "metadata": {},
   "source": [
    "## Definitions\n",
    "- Joint distribution function\n",
    "    - The cumulative distribution function for a multivariate distribution.\n",
    "- Joint probability distribution\n",
    "    - The probability mass function for a multivariate distribution.\n",
    "- Joint probability density function\n",
    "    - The probability density function of a multivariate distribution\n",
    "- Marginal probability distribution\n",
    "    - Models the probability of a discrete random variable after isolating it from a multivariate distribution.\n",
    "- Marginal density function\n",
    "    - Models the probability density of a continuous random variable after isolating it from a multivariate distribution.\n",
    "- Conditional probability distribution\n",
    "    - Models the probability of a discrete random variable $X_1$ when $X_2$ is know to be a particular value.\n",
    "- Conditional density function\n",
    "    - Models the probability of a continuous random variable $X_1$ when $X_2$ is know to be a particular value."
   ]
  },
  {
   "cell_type": "markdown",
   "metadata": {},
   "source": [
    "## Discrete\n",
    "- Joint distribution function\n",
    "    - $F(x_1, x_2) = P(X_1 \\le x_1, X_2 \\le x_2)$\n",
    "- Joint probability distribution\n",
    "    - $p(x_1, x_2) = P(X_1 = x_1, X_2 = x_2)$\n",
    "- Marginal probability distribution\n",
    "    - $p_1(x_1)=\\sum_{x_2}p(x_1, x_2)$\n",
    "- Conditional probability distribution\n",
    "    - $p(x_1|x_2) = \\frac{p(x_1, x_2)}{p_2(x_2)}$"
   ]
  },
  {
   "cell_type": "markdown",
   "metadata": {},
   "source": [
    "## Continuous\n",
    "- Joint distribution function\n",
    "    - $F(x_1, x_2) = P(X_1 \\le x_1, X_2 \\le x_2)$\n",
    "- Joint probability density function\n",
    "    - $f(x_1, x_2)= \\frac{d^2F(x_1, x_2)}{dx_1dx_2}$\n",
    "    - $F(x_1, x_2) = \\int_{-\\infty}^{x_1}\\int_{-\\infty}^{x_2}f(t_1, t_2)dt_2dt_1$\n",
    "- Marginal density function\n",
    "    - $f_1(x_1)=\\int_{-\\infty}^{\\infty}f(x_1, x_2)dx_2$\n",
    "- Conditional density function\n",
    "    - $f(x_1|x_2) = \\frac{f(x_1, x_2)}{f_2(x_2)}$"
   ]
  },
  {
   "cell_type": "markdown",
   "metadata": {},
   "source": [
    "## Independence\n",
    "If $X_1$ and $X_2$ are indpendent if the following equations are true:\n",
    "- $F(x_1, x_2) = F_1(x_1)F_2(x_2)$\n",
    "- $p(x_1, x_2) = p_1(x_1)p_2(x_2)$ or $f(x_1, x_2) = f_1(x_1)f_2(x_2)$"
   ]
  }
 ],
 "metadata": {
  "language_info": {
   "codemirror_mode": {
    "name": "ipython",
    "version": 3
   },
   "file_extension": ".py",
   "mimetype": "text/x-python",
   "name": "python",
   "nbconvert_exporter": "python",
   "pygments_lexer": "ipython3",
   "version": 3
  },
  "orig_nbformat": 2
 },
 "nbformat": 4,
 "nbformat_minor": 2
}
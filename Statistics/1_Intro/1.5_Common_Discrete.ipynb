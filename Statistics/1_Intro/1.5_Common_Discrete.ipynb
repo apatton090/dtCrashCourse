{
 "cells": [
  {
   "cell_type": "markdown",
   "metadata": {},
   "source": [
    "# Introduction to Statistics\n",
    "## Chapter 1.5 - Common Discrete Random Variables\n",
    "\n"
   ]
  },
  {
   "cell_type": "markdown",
   "metadata": {},
   "source": [
    "## Bernoulli Random Variable\n",
    "The simplest experiment we can have is one with 2 possible outcomes. Typically, the outcomes are referred to as \"success\", the one (most) related to the question of interest, and \"failure\". Mathematically, the outcomes are encoded as 1 or 0 respectively. This type of random variable is called a Bernoulli random variable or a Bernoulli trail. The remain discrete random variables introduced in this chapter will be derived from the Bernoulli.\n",
    "\n",
    "Suppose probability of success, $P(X=1)$, is some constant $p$. Then $P(X=0)$ must be $1-p$ because it is the complement of $X=1$. We can combine them together to form the following pmf:\n",
    "- (1) $p(x) = \\begin{cases} p, \\quad \\text{if }x=1 \\\\ 1-p, \\quad \\text{if }x=0 \\end{cases}$  \n",
    "\n",
    "Using the pmf, we can derive the expected value and variance  \n",
    "Expected value  \n",
    "- (2) $E(X) = p$\n",
    "    - $E(X) = \\sum_x xp(x) = 0(1-p) + 1*p = p$  \n",
    "\n",
    "Variance\n",
    "- (3) $Var(X) = p(1-p)$\n",
    "    - $Var(X) =\\sum_x (x-\\mu)^2p(x) = \\sum_x (x-p)^2p(x) = (1-p)^2p + (0-p)^2(1-p)$\n",
    "    - $= p - 2p^2 +p^3 + p^2 - p^3 = p - p^2 = p(1-p)$\n",
    "\n",
    "Suppose a random variable $X$ is distributed as a Bernoulli with parameter $p$. The short hand notation is:\n",
    "- $X \\sim Bern(p)$\n",
    "    - $\\sim$ means distributed as\n",
    "\n",
    "Suppose the random variable $X$ above is a coin flipping experiment. If we repeat the coin flipping experiment $n$ times, then we would generate a sequence of random variables, $X_1, X_2, X_3, ..., X_n$. These random variables are said to be independent because the outcome of one experiment will not effect the outcome of another, and indentically distributed because we are using the same coin. We are assuming that the coin behavior does not change between experiments, therefore having the same probability distribution (same type of random variables with same parameters). Independent and indentically distributed is typically shorten to iid.\n"
   ]
  }
 ],
 "metadata": {
  "language_info": {
   "codemirror_mode": {
    "name": "ipython",
    "version": 3
   },
   "file_extension": ".py",
   "mimetype": "text/x-python",
   "name": "python",
   "nbconvert_exporter": "python",
   "pygments_lexer": "ipython3",
   "version": 3
  },
  "orig_nbformat": 2
 },
 "nbformat": 4,
 "nbformat_minor": 2
}
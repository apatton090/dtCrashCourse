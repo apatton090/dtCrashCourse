{
 "cells": [
  {
   "cell_type": "markdown",
   "metadata": {},
   "source": [
    "# Introduction to Statistics\n",
    "## Chapter 1.5 - Common Discrete Random Variables\n",
    "\n"
   ]
  },
  {
   "cell_type": "markdown",
   "metadata": {},
   "source": [
    "## Bernoulli Random Variable\n",
    "The simplest experiment we can have is one with 2 possible outcomes. Typically, the outcomes are referred to as \"success\", the one (most) related to the question of interest, and \"failure\". Mathematically, the outcomes are encoded as 1 or 0 respectively. This type of random variable is called a Bernoulli random variable or a Bernoulli trail (name after Jacob Bernoulli so it is capcitalized). The remain discrete random variables introduced in this chapter will be derived from the Bernoulli.\n",
    "\n",
    "Suppose probability of success, $P(X=1)$, is some constant $p$. Then $P(X=0)$ must be $1-p$ because it is the complement of $X=1$. We can combine them together to form the following pmf:\n",
    "- (1) $p(x) = \\begin{cases} p, \\quad \\text{if }x=1 \\\\ 1-p, \\quad \\text{if }x=0 \\end{cases}$  \n",
    "\n",
    "Using the pmf, we can derive the expected value and variance  \n",
    "### Expected Value and Variance\n",
    "- (2) $E(X) = p$\n",
    "    - $E(X) = \\sum_x xp(x) = 0(1-p) + 1*p = p$  \n",
    "- (3) $Var(X) = p(1-p)$\n",
    "    - $Var(X) =\\sum_x (x-\\mu)^2p(x) = \\sum_x (x-p)^2p(x) = (1-p)^2p + (0-p)^2(1-p)$\n",
    "    - $= p - 2p^2 +p^3 + p^2 - p^3 = p - p^2 = p(1-p)$\n",
    "\n",
    "### Notation\n",
    "Suppose a random variable $X$ is distributed as a Bernoulli with parameter $p$. The short hand notation is:\n",
    "- $X \\sim Bern(p)$\n",
    "    - $\\sim$ means distributed as\n",
    "\n",
    "Suppose the random variable $X$ above is a coin flipping experiment, with $X=1$ if the coin is heads and $X=0$ otherwise (sometimes shorten to o.w.). If we repeat the coin flipping experiment $n$ times, then we would generate a sequence of random variables, $X_1, X_2, X_3, ..., X_n$. These random variables are said to be independent because the outcome of one experiment will not effect the outcome of another, and indentically distributed because we are using the same coin. We are assuming that the coin behavior does not change between experiments, therefore having the same probability distribution (same type of random variables with same parameters). Independent and indentically distributed is typically shorten to iid.\n"
   ]
  },
  {
   "cell_type": "markdown",
   "metadata": {},
   "source": [
    "## Binomial\n",
    "Binomial random variable models the number of successes in $n$ iid Bernoulli trials. Since success is encoded as a 1 for a Bernoulli, Binomial can be seen as the sum of $n$ iid Bernoulli trials.\n",
    "\n",
    "Now lets derive the binomial pmf.\n",
    "- Given: $n$ number of Bernoulli trails, $x$ number of successes\n",
    "- We know that the probability of success for a Bernoulli is $p$. So the probability of x number of success is $p^x$\n",
    "- We know that the probability of failure for a Bernoulli is $1-p$ and the number of failure is $n-x$. So the probability of $n-1$ number of failure is $(1-p)^{n-x}$\n",
    "- There are many ways to have $x$ number of successes in $n$ trails. We can calculate the number of ways by using combinations, $\\binom nx$\n",
    "\n",
    "By combining everything above, we have the following pmf:\n",
    "- (4) $p(x) = \\binom n x p^x (1-p)^{n-x}$\n",
    "\n",
    "The notation of a random variable $X$ being distributed as a binomial is:\n",
    "- $X \\sim B(n, p)$\n",
    "\n",
    "### Expected Value and Variance\n",
    "We could derive both of these from the pmf. However, it is significantly easier to derive them using a sequence of Bernoulli random variables, $Y_1, ..., Y_n$, instead.\n",
    "- $E(X) = np$\n",
    "    - $E(X) = E(Y_1 + Y_2 + ... + Y_n) = E(Y_1) + ... + E(Y_n) = np$\n",
    "- $Var(X) = np(1-p)$\n",
    "    - $Var(X) = Var(Y_1 + Y_2 + ... + Y_n) = Var(Y_1) + ... + Var(Y_n) = np(1-p)$\n",
    "\n"
   ]
  },
  {
   "cell_type": "markdown",
   "metadata": {},
   "source": [
    "## Equations\n",
    "Bernoulli  \n",
    "1) $p(x) = \\begin{cases} p, \\quad \\text{if }x=1 \\\\ 1-p, \\quad \\text{if }x=0 \\end{cases}$  \n",
    "2) $E(X) = p$\n",
    "3) $Var(X) = p(1-p)$"
   ]
  }
 ],
 "metadata": {
  "language_info": {
   "codemirror_mode": {
    "name": "ipython",
    "version": 3
   },
   "file_extension": ".py",
   "mimetype": "text/x-python",
   "name": "python",
   "nbconvert_exporter": "python",
   "pygments_lexer": "ipython3",
   "version": 3
  },
  "orig_nbformat": 2
 },
 "nbformat": 4,
 "nbformat_minor": 2
}
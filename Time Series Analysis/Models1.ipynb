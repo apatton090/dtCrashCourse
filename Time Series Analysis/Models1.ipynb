{
 "cells": [
  {
   "cell_type": "markdown",
   "metadata": {},
   "source": [
    "# Models"
   ]
  },
  {
   "cell_type": "markdown",
   "metadata": {},
   "source": [
    "## Additive Model\n",
    "$$ x_t = m_t + s_t + e_t $$  \n",
    "$m_t$ - trend component\n",
    "- the slowly changing component that describes long-range behavior  \n",
    "\n",
    "$s_t$ - seasonal component  \n",
    "- the periodic component that describes cycliv behavior  \n",
    "\n",
    "$e_t$ - error/ noise component  \n",
    "- random component that describes departures from trend and seasonality\n",
    "- Not necessarily iid wn\n",
    "\n",
    "The goal is estimate $m_t$ and $s_t$ then model is $e_t$.  \n",
    "Step 1: Estimate $m_t$ using $x_t$  \n",
    "Step 2: Estimate $s_t$ using $x_t - m_t$  \n",
    "Step 3: Model $e_t$  \n",
    "- If $e_t$ is a white noise series, then we are done\n",
    "- If $e_t$ is a stationary series, model it"
   ]
  },
  {
   "cell_type": "markdown",
   "metadata": {},
   "source": [
    "### Trend Component\n",
    "#### Regression\n",
    "The trend can be estimated using regression.  \n",
    "If there is a change in mean, then use an indicator function in the regression.\n",
    "    "
   ]
  },
  {
   "cell_type": "markdown",
   "metadata": {},
   "source": [
    "### Seasonal Component\n",
    "Suppose we have a time serioes with a seasonal component $s_t$ and it has a period of $d$.  \n",
    "#### Properties\n",
    "- $s_{t+d} = s_t$\n",
    "- $\\sum_{i=0}{d-1}s_{t+i}=0$\n",
    "\n",
    "#### Harmonic Regression\n",
    "We can estimate the seasonality using harmonic regression. This assumes the seasonality can be modeled as having the parametric form\n",
    "$$s_t = Acos(\\frac{2\\pi t}{d} + \\phi)$$\n",
    "- $A$ is the amplitude and is $>0$  \n",
    "- $\\phi$ is the phase shift from $(-\\pi, \\pi]$\n",
    "- $d$ is the period\n",
    "\n",
    "Based on the identity\n",
    "$$cos(x+y) = cos(x)cos(y) + sin(x)sin(y)$$\n",
    "we can write\n",
    "$$s_t = Acos(\\frac{2\\pi t}{d} + \\phi)$$\n",
    "$$s_t = Acos(\\phi)cos(\\frac{2\\pi t}{d})cos(\\phi) + Asin(\\phi)sin(\\frac{2\\pi t}{d})$$\n",
    "$$s_t = \\beta_1 cos(\\frac{2\\pi t}{d}) + \\beta_2 sin(\\frac{2\\pi t}{d})$$\n",
    "- $A = \\sqrt{\\beta_1^2 + \\beta_2^2}$\n",
    "- $\\phi = arctan(\\frac{-\\beta_1}{\\beta_2})$\n",
    "\n",
    "#### Seasonal Means\n",
    "We can estimate the seasonality using seasonal means. \n",
    "This estimates the d number of different means separately, essentially treating seasonality as a factor variable in a regression.\n",
    "\n",
    "#### Residuals\n",
    "- The residuals should be centered around 0\n",
    "- The residuals for the same seasonality value should be centered around 0\n",
    "- ACF is stationary or white noise"
   ]
  },
  {
   "cell_type": "markdown",
   "metadata": {},
   "source": [
    "## Differencing\n",
    "Alternative approach to convert a nonstationary time series into a (approximately) stationary time series.\n",
    "\n",
    "### Notation\n",
    "Backshift operator\n",
    "- $Bx_t = x_{t-1}$\n",
    "\n",
    "Differencing operator\n",
    "- $\\nabla x_t = x_t - x_{t-1}$\n",
    "- $\\nabla x_t = (1-B)x_t$\n",
    "- $\\nabla^k x_t = (1-B)^kx_t$\n",
    "- $\\nabla_d x_t= x_t - x_{t-d}$\n",
    "    - lag d differencing\n",
    "$\\nabla$ and $\\nabla_d$ is commutative\n",
    "\n",
    "### Removing Trend and Seasonality\n",
    "Use differencing to remove trend.\n",
    "- $\\nabla$ for linear trend\n",
    "- $\\nabla^k$ for nonlinear trend\n",
    "\n",
    "Use lag d differencing to remove seasonality\n"
   ]
  },
  {
   "cell_type": "markdown",
   "metadata": {},
   "source": [
    "### Linear Filters\n",
    "A linear filter is defined to be\n",
    "$$x'_t = \\sum_{i = -\\infty}^\\infty a_i x_{t-i}$$\n",
    "\n",
    "#### Moving Average (MA) for Trend\n",
    "A moving average filter (subset of linear filters) is defined to be\n",
    "$$x'_t  = \\frac{1}{2q+1}\\sum_{j=-q}^q a_jx_{t-j}$$\n",
    "For a symmetric moving average filter the weights $a_j$ are\n",
    "$$a_j = \\begin{cases} \\frac{1}{2q+1}, \\quad |j|\\le q \\\\ 0, \\quad o.w. \\end{cases}$$\n",
    "- Often choose q by eye\n",
    "    - small q = some smoothing\n",
    "    - large q = over smoothing\n",
    "- Works for trend that is slow varying\n",
    "    - Trend is locally linear between $t-q$ and $t+q$.\n",
    "    \n",
    "Spencer 15 point MA filter\n",
    "- Designed to pass cubic polynomial trend\n",
    "the weigths are\n",
    "$$[a_0, a_1, ..., a_7] = \\frac{1}{320}[74, 67, 46, 21,3,−5,−6,−3], \\quad a_{-j} = a_j, a_j = 0 if |j|>7$$\n",
    "\n",
    "#### Moving Average for Seasonality\n",
    "Removes seasonality from the time series\n",
    "- If the period of the seasonality (d) is odd\n",
    "    - $q = \\frac{d-1}{2}, \\quad a_j=\\frac{1}{d}$\n",
    "- If d is even\n",
    "    - $q = \\frac{d}{2}, \\quad a_j = \\begin{cases} \\frac{0.5}{d}, \\quad |j| = \\frac{d}{2} \\\\ \\frac{1}{d}, \\quad |j| < \\frac{d}{2} \\end{cases}$"
   ]
  },
  {
   "cell_type": "code",
   "execution_count": null,
   "metadata": {},
   "outputs": [],
   "source": []
  }
 ],
 "metadata": {
  "kernelspec": {
   "display_name": "Python 3",
   "language": "python",
   "name": "python3"
  },
  "language_info": {
   "codemirror_mode": {
    "name": "ipython",
    "version": 3
   },
   "file_extension": ".py",
   "mimetype": "text/x-python",
   "name": "python",
   "nbconvert_exporter": "python",
   "pygments_lexer": "ipython3",
   "version": "3.6.9"
  }
 },
 "nbformat": 4,
 "nbformat_minor": 2
}

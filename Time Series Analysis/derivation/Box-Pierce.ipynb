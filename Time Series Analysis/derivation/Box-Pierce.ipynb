{
 "cells": [
  {
   "cell_type": "markdown",
   "metadata": {},
   "source": [
    "$\\hat \\rho(h) \\dot \\sim N(0, \\frac{1}{n})$  \n",
    "$\\sqrt n \\hat \\rho(h) \\dot \\sim N(0, 1)$  \n",
    "$n \\hat \\rho^2(h) \\dot \\sim \\chi^2_1$    \n",
    "$\\sum _ {j=1}^h n \\hat \\rho^2(j) \\dot \\sim \\chi^2_h$  \n"
   ]
  },
  {
   "cell_type": "code",
   "execution_count": null,
   "metadata": {},
   "outputs": [],
   "source": []
  }
 ],
 "metadata": {
  "kernelspec": {
   "display_name": "Python 3",
   "language": "python",
   "name": "python3"
  },
  "language_info": {
   "codemirror_mode": {
    "name": "ipython",
    "version": 3
   },
   "file_extension": ".py",
   "mimetype": "text/x-python",
   "name": "python",
   "nbconvert_exporter": "python",
   "pygments_lexer": "ipython3",
   "version": "3.6.9"
  }
 },
 "nbformat": 4,
 "nbformat_minor": 2
}

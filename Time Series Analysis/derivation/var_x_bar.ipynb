{
 "cells": [
  {
   "cell_type": "markdown",
   "metadata": {},
   "source": [
    "$Var[\\bar x] = Var[\\frac{1}{n} \\sum_{t=1}^{n}x_t] $  \n",
    "$= \\frac{1}{n^2} Var[\\sum_{t=1}^{n}x_t] $  \n",
    "$= \\frac{1}{n^2} Cov[\\sum_{t=1}^{n}x_t, \\sum_{s=1}^{n}s_t]$  \n",
    "$= \\frac{1}{n^2} [n\\gamma_x(0) + (n-1)\\gamma_x(1) + (n-2)\\gamma_x(2) + ... + \\gamma_x(n-1)$  \n",
    "$\\quad\\quad\\quad\\quad  + (n-1)\\gamma_x(-1) + (n-2)\\gamma_x(-2) + ...  + \\gamma_x(1-n)]$  \n",
    "$= \\frac{1}{n^2}\\sum_{h=-n}^n(n-|h|)\\gamma_x(h)$  \n",
    "$= \\frac{1}{n^2}\\sum_{h=-n}^n n(1-\\frac{|h|}{n})\\gamma_x(h)$  \n",
    "$= \\frac{1}{n}\\sum_{h=-n}^n(1-\\frac{|h|}{n})\\gamma_x(h)$"
   ]
  },
  {
   "cell_type": "markdown",
   "metadata": {},
   "source": []
  },
  {
   "cell_type": "code",
   "execution_count": null,
   "metadata": {},
   "outputs": [],
   "source": []
  }
 ],
 "metadata": {
  "kernelspec": {
   "display_name": "Python 3",
   "language": "python",
   "name": "python3"
  },
  "language_info": {
   "codemirror_mode": {
    "name": "ipython",
    "version": 3
   },
   "file_extension": ".py",
   "mimetype": "text/x-python",
   "name": "python",
   "nbconvert_exporter": "python",
   "pygments_lexer": "ipython3",
   "version": "3.6.9"
  }
 },
 "nbformat": 4,
 "nbformat_minor": 2
}

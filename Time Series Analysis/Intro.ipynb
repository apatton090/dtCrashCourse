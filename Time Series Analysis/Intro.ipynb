{
 "cells": [
  {
   "cell_type": "markdown",
   "metadata": {},
   "source": [
    "# Time Series Analysis\n",
    "## Introduction"
   ]
  },
  {
   "cell_type": "markdown",
   "metadata": {
    "slideshow": {
     "slide_type": "-"
    }
   },
   "source": [
    "#### Time Series\n",
    "- a sequence of random variables $x_1, x_2, x_3, ...$, where the subscript denotes time point at which the data is taken\n",
    "- a collection of random variables {$x_t$}, where $t = 0, \\pm1, \\pm2, ...$ and denotes time point at which the data is taken\n",
    "    - usually t is discrete meaning data is sampled at constant intrevals \n"
   ]
  },
  {
   "cell_type": "markdown",
   "metadata": {},
   "source": [
    "#### Time Series Model  \n",
    "- A mathematical/ statistical model that \n",
    "    - provides a plausible description for a sample time series data\n",
    "    - describes how the data is correlated throughout time"
   ]
  },
  {
   "cell_type": "markdown",
   "metadata": {},
   "source": [
    "## Measure of Dependence  "
   ]
  },
  {
   "cell_type": "markdown",
   "metadata": {},
   "source": [
    "#### Mean\n",
    "$$\\mu_t = E[x_t] = \\int_{-\\infty}^{\\infty}{xf_x(x)dx}$$\n",
    "- Discribes what the average value is at time"
   ]
  },
  {
   "cell_type": "markdown",
   "metadata": {},
   "source": [
    "#### Autocovariance Function (ACVF)\n",
    "$$\\gamma_x(s,t) = cov(x_s, x_t) = E[(x_s - \\mu_s)(x_t - \\mu_t)]$$\n",
    "- Measures the *linear* dependence between 2 points on the same series\n",
    "    - $\\gamma_x(s, t) = 0 -> x_s, x_t$ are not linearly related, not that they are independent\n",
    "    - If $x_s, x_t$, then $\\gamma_x(s, t) = 0$\n",
    "        \n",
    "#### Autocorrelation Function (ACF)\n",
    "$$\\rho(s,t) = \\frac{\\gamma(x,t)}{\\sqrt{\\gamma(s,s)\\gamma(t,t)}}$$\n",
    "- A normalized version of ACVF. Normalized to be between [-1, 1]"
   ]
  },
  {
   "cell_type": "markdown",
   "metadata": {},
   "source": [
    "#### Cross-covariance function\n",
    "$$\\gamma_{xy}(s,t) = cov(x_s, y_t) = E[(x_s - \\mu_xs)(y_t - \\mu_yt)]$$\n",
    "- Measures the *linear* dependence between 2 points on 2 different series\n",
    "\n",
    "#### Cross-correlation Function (CCF)\n",
    "$$\\rho_{xy}(s,t) = \\frac{\\gamma_{xy}(x,t)}{\\sqrt{\\gamma_x(s,s)\\gamma_y(t,t)}}$$\n",
    "- A normalized version of cross-covariance. Normalized to be between [-1, 1]"
   ]
  },
  {
   "cell_type": "markdown",
   "metadata": {},
   "source": [
    "## Stationary\n",
    "#### Strictly Stationary\n",
    "A time series with the property for all $h \\in \\mathbb{Z}$, the dataset {$x_{t1}, x_{t2}, x_{t3}, ..., x_{tn}$} and the time shifted set {$x_{t1+h}, x_{t2+h}, x_{t3+h}, ..., x_{tn+h}$} has the probabilistic behavior/ statistical properties  \n",
    "\n",
    "#### Weakly Stationary\n",
    "The strict definition is (nearly) impossible to prove, thus too strict of a definition for most application. For the weak version of stationary, we only have conditions for the first 2 moments. The weak definition is:\n",
    "- $E[x_t] = \\mu, \\forall t \\in \\mathbb{Z}$\n",
    "- $Var[x_t] < \\infty, \\forall t in \\mathbb{Z}$\n",
    "- $\\gamma_x(s, t) = \\gamma_x(s+h, t+h), \\forall s,t,h \\in \\mathbb{Z}$\n",
    "    - ACVF only depend on the difference between s and t, |s - t|, not the values of s, t\n",
    "    - the difference between s and t is refered to lag\n",
    "    - ACVF and be rewritten so it is only a function of lag\n",
    "\n",
    "The term stationary typically will refer to weakly stationary. A stationary process in the strict sense will refered as strictly stationary"
   ]
  },
  {
   "cell_type": "markdown",
   "metadata": {},
   "source": [
    "##### ACVF and ACF for Stationary Time Series\n",
    "Both ACVF and ACF and difined using only the lag h instead of s and t. \n",
    "$$h = |s-t|$$\n",
    "$$\\text{ACVF } =\\gamma(h) = \\gamma(t, t+h) = E[(x_t-\\mu)(x_{t+h}-\\mu)]$$\n",
    "$$\\text{ACF } =\\rho(h) = \\frac{\\gamma(h)}{\\gamma(0)}$$\n",
    "\n",
    "Sample ACVF and ACF\n",
    "$$\\text{ACVF } = \\hat \\gamma (h) = \\frac{1}{n}\\sum_{t=1}^{n-h}(x_{t+h-\\bar x})(x_t - \\bar x)$$\n",
    "- Biased estimate\n",
    "- Positive-definite, so prefered over the something else e.g. n-h or n-h-1\n",
    "$$\\text{ACF } = \\hat \\rho = \\frac{\\gamma(h)}{\\gamma(0)}$$    \n",
    "\n",
    "Sample Mean\n",
    "$$\\bar x = \\frac{1}{n} \\sum_{t=1}^{n}x_t$$\n",
    "\n",
    "- $E[\\bar x] = \\mu$  \n",
    "- $Var[\\bar x] = \\frac{1}{n}\\sum_{h=-n}^n(1-\\frac{|h|}{n})\\gamma_x(h)$\n",
    "    - Derivation [here](./derivation/var_x_bar.ipynb)\n",
    "    - When estimating variance, set the bounds of the summation to be $\\pm \\sqrt n$. $\\hat \\gamma(h)$ for $|h| \\approx n$ are inaccurate due to the little amount of data.\n",
    "    \n",
    "##### Jointly Stationary\n",
    "2 time series x,y are jointly stationary if x and y are both stationary and the cross-covariance is a function of lag h  \n",
    "$$\\text{cross-covariance} = \\gamma_{xy}(h) = \\gamma_{xy}(t, t+h)$$\n",
    "$$\\text{CCF} = \\rho_{xy}(h) = \\frac{\\gamma_{xy}(h)}{\\sqrt{\\gamma_x(0)\\gamma_y(0)}}$$"
   ]
  },
  {
   "cell_type": "markdown",
   "metadata": {},
   "source": [
    "## White Noise\n",
    "Denoted as $w_t$  \n",
    "White noise is a special type of time series in which the random variables are uncorrelated with mean $0$ and variance $\\sigma_w^2$.  \n",
    "There are 3 types of white noise \n",
    "- white noise\n",
    "- white indpendent noise (iid noise)\n",
    "- Gaussian white noise"
   ]
  },
  {
   "cell_type": "markdown",
   "metadata": {},
   "source": [
    "#### White Noise\n",
    "- Collection of\n",
    "    - uncorrelated random variables   \n",
    "   - mean $0$\n",
    "    - finite variance $\\sigma_w^2$\n",
    "- $w_t$ ~ $wn(0, \\sigma_w^2)$\n",
    "\n",
    "#### IID Noise\n",
    "- Collection of\n",
    "    - independent and identically distributed (iid) random variables\n",
    "    - mean $0$\n",
    "    - finite variance $\\sigma_w^2$\n",
    "- Subset of white noise\n",
    "- $w_t$ ~ $iid(0, \\sigma_w^2)$\n",
    "\n",
    "#### Gaussian white noise\n",
    "- Collection of\n",
    "    - independent normal/ Gaussian random variables\n",
    "    - mean $0$\n",
    "    - finite variance $\\sigma_w^2$\n",
    "- A specific type of iid noise\n",
    "- $w_t$ ~ $iid N(0, \\sigma_w^2)$\n",
    "- We will be refering to this special case of white noise when simulating"
   ]
  },
  {
   "cell_type": "markdown",
   "metadata": {},
   "source": [
    "## Test for White Noise\n",
    "For white noise, $\\hat \\rho(h) \\dot \\sim N(0, \\frac{1}{n})$  \n",
    "\n",
    "#### Confidence Interval\n",
    "CI = $\\pm \\frac{1.96}{\\sqrt n} \\approx \\pm \\frac{2}{\\sqrt n}$  \n",
    "- Plot the ACFs (normally bar chart with lags on the x axis and ACF of the y axis). If 95% of the ACFs are within the CI, then is likely to be white noise\n",
    "- Visual test\n",
    "\n",
    "#### HypothesisTest\n",
    "$H_0$: Data is white noise  \n",
    "$H_1$: Data is not white noise\n",
    "\n",
    "Test statistic:\n",
    "$Q \\sim \\chi^2_h$    \n",
    "- Box-Pierce test\n",
    "    - $Q = n\\sum_{j=1}^{h}{\\hat\\rho}^2(h)$\n",
    "    - Original test statistic\n",
    "    - Derivation [here](./derivation/Box-Pierce.ipynb)\n",
    "- Ljung-Box test\n",
    "    - $Q = n(n+1)\\sum_{j=1}^{h}\\frac{\\rho^2(h)}{n-h}$\n",
    "    - Improved test statistic. This statistic is closwer to $\\chi^2_h$  "
   ]
  },
  {
   "cell_type": "markdown",
   "metadata": {},
   "source": [
    "## Linear Process\n",
    "A linear process, $x_t$ , is defined to be a linear combination of white noise $w_t$\n",
    "$$x_t = \\mu + \\sum_{i = -\\infty}^\\infty\\psi_i w_{t-i}$$\n",
    "This has the ACVF of $\\gamma_x(h)=\\sigma_w^2 \\sum_{i = -\\infty}^{\\infty}{\\psi_{i+h} \\psi_i}$"
   ]
  },
  {
   "cell_type": "code",
   "execution_count": null,
   "metadata": {},
   "outputs": [],
   "source": []
  }
 ],
 "metadata": {
  "kernelspec": {
   "display_name": "Python 3",
   "language": "python",
   "name": "python3"
  },
  "language_info": {
   "codemirror_mode": {
    "name": "ipython",
    "version": 3
   },
   "file_extension": ".py",
   "mimetype": "text/x-python",
   "name": "python",
   "nbconvert_exporter": "python",
   "pygments_lexer": "ipython3",
   "version": "3.6.9"
  }
 },
 "nbformat": 4,
 "nbformat_minor": 2
}
